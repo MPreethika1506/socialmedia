{
  "nbformat": 4,
  "nbformat_minor": 0,
  "metadata": {
    "colab": {
      "provenance": []
    },
    "kernelspec": {
      "name": "python3",
      "display_name": "Python 3"
    },
    "language_info": {
      "name": "python"
    }
  },
  "cells": [
    {
      "cell_type": "code",
      "execution_count": 1,
      "metadata": {
        "colab": {
          "base_uri": "https://localhost:8080/"
        },
        "id": "b9Cd9nsLU0cw",
        "outputId": "ef0f5fe5-5f28-41c8-e2f6-e29e6c6c5c66"
      },
      "outputs": [
        {
          "output_type": "stream",
          "name": "stderr",
          "text": [
            "[nltk_data] Downloading package vader_lexicon to /root/nltk_data...\n"
          ]
        },
        {
          "output_type": "stream",
          "name": "stdout",
          "text": [
            "\n",
            "Sentiment Analysis Results:\n",
            "--------------------------------------------------\n",
            "Post                                               Sentiment \n",
            "--------------------------------------------------\n",
            "I absolutely love this product! Best purchase ever! Positive  \n",
            "Worst customer service I have ever encountered.    Negative  \n",
            "The weather today is quite pleasant.               Positive  \n",
            "I have mixed feelings about this decision.         Neutral   \n",
            "This movie was such a disappointment.              Negative  \n",
            "--------------------------------------------------\n"
          ]
        }
      ],
      "source": [
        "import nltk\n",
        "from nltk.sentiment import SentimentIntensityAnalyzer\n",
        "\n",
        "# Download the required NLTK resource\n",
        "nltk.download('vader_lexicon')\n",
        "\n",
        "# Initialize sentiment analyzer\n",
        "sia = SentimentIntensityAnalyzer()\n",
        "\n",
        "def analyze_sentiment(text):\n",
        "    \"\"\"\n",
        "    Analyzes the sentiment of a given text using VADER SentimentIntensityAnalyzer.\n",
        "    Returns:\n",
        "        - 'Positive' if compound score > 0.05\n",
        "        - 'Neutral' if compound score is between -0.05 and 0.05\n",
        "        - 'Negative' if compound score < -0.05\n",
        "    \"\"\"\n",
        "    sentiment_scores = sia.polarity_scores(text)\n",
        "    compound = sentiment_scores['compound']\n",
        "\n",
        "    if compound > 0.05:\n",
        "        return \"Positive\"\n",
        "    elif compound < -0.05:\n",
        "        return \"Negative\"\n",
        "    else:\n",
        "        return \"Neutral\"\n",
        "\n",
        "# Example social media conversations\n",
        "social_media_posts = [\n",
        "    \"I absolutely love this product! Best purchase ever!\",\n",
        "    \"Worst customer service I have ever encountered.\",\n",
        "    \"The weather today is quite pleasant.\",\n",
        "    \"I have mixed feelings about this decision.\",\n",
        "    \"This movie was such a disappointment.\"\n",
        "]\n",
        "\n",
        "# Analyze each post and store results\n",
        "results = [(post, analyze_sentiment(post)) for post in social_media_posts]\n",
        "\n",
        "# Print results in tabular format\n",
        "print(\"\\nSentiment Analysis Results:\")\n",
        "print(\"-\" * 50)\n",
        "print(f\"{'Post':<50} {'Sentiment':<10}\")\n",
        "print(\"-\" * 50)\n",
        "for post, sentiment in results:\n",
        "    print(f\"{post:<50} {sentiment:<10}\")\n",
        "print(\"-\" * 50)"
      ]
    }
  ]
}