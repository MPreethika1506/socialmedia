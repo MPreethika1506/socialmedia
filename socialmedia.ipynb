{
  "nbformat": 4,
  "nbformat_minor": 0,
  "metadata": {
    "colab": {
      "provenance": []
    },
    "kernelspec": {
      "name": "python3",
      "display_name": "Python 3"
    },
    "language_info": {
      "name": "python"
    }
  },
  "cells": [
    {
      "cell_type": "code",
      "execution_count": null,
      "metadata": {
        "colab": {
          "base_uri": "https://localhost:8080/"
        },
        "id": "NDJI18axf8AH",
        "outputId": "527b2e54-09b7-4d71-bd00-b2d40025a8a8"
      },
      "outputs": [
        {
          "output_type": "stream",
          "name": "stdout",
          "text": [
            "Post: 'I love this product! It's amazing!'\n",
            "Sentiment: positive\n",
            "\n",
            "Post: 'This is the worst service I've ever experienced.'\n",
            "Sentiment: negative\n",
            "\n",
            "Post: 'The weather is nice today.'\n",
            "Sentiment: positive\n",
            "\n",
            "Post: 'I feel okay about the decision.'\n",
            "Sentiment: positive\n",
            "\n",
            "Post: 'Absolutely terrible movie, waste of time and money.'\n",
            "Sentiment: negative\n",
            "\n"
          ]
        }
      ],
      "source": [
        "from textblob import TextBlob\n",
        "\n",
        "def analyze_sentiment(text):\n",
        "    \"\"\"\n",
        "    Analyze the sentiment of a given text.\n",
        "    Returns:\n",
        "        - 'positive' if sentiment polarity > 0\n",
        "        - 'neutral' if sentiment polarity == 0\n",
        "        - 'negative' if sentiment polarity < 0\n",
        "    \"\"\"\n",
        "    analysis = TextBlob(text)\n",
        "\n",
        "    # Get sentiment polarity (-1 to 1 where -1 is negative, 1 is positive)\n",
        "    polarity = analysis.sentiment.polarity\n",
        "\n",
        "    if polarity > 0:\n",
        "        return \"positive\"\n",
        "    elif polarity == 0:\n",
        "        return \"neutral\"\n",
        "    else:\n",
        "        return \"negative\"\n",
        "\n",
        "# Example social media conversations\n",
        "social_media_posts = [\n",
        "    \"I love this product! It's amazing!\",\n",
        "    \"This is the worst service I've ever experienced.\",\n",
        "    \"The weather is nice today.\",\n",
        "    \"I feel okay about the decision.\",\n",
        "    \"Absolutely terrible movie, waste of time and money.\"\n",
        "]\n",
        "\n",
        "# Analyze each post\n",
        "for post in social_media_posts:\n",
        "    sentiment = analyze_sentiment(post)\n",
        "    print(f\"Post: '{post}'\")\n",
        "    print(f\"Sentiment: {sentiment}\\n\")"
      ]
    }
  ]
}